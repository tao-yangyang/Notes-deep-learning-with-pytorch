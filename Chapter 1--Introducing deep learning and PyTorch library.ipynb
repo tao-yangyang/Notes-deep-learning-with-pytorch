{
 "cells": [
  {
   "cell_type": "markdown",
   "metadata": {},
   "source": [
    "## 第一章主要讲述的内容是：\n",
    "- 这本书的主要内容\n",
    "- pytorch在深度学习项目构建中的角色\n",
    "- pytorch的优缺点\n",
    "- 运行示例程序需要的硬件"
   ]
  },
  {
   "cell_type": "markdown",
   "metadata": {},
   "source": [
    "*Alan M. Turing thought about . . . the question of whether Machines Can Think, a question . . . about as relevant as the question of whether Submarines Can Swim.*\n",
    "~~~\n",
    "我们训练出来的模型能达到很高的准确率，是否就意味着及其具备了很好的学习能力，这个问题可能就可以形象的类比于潜艇会不会游泳\n",
    "~~~"
   ]
  },
  {
   "cell_type": "markdown",
   "metadata": {},
   "source": [
    "# What is PyTorch?"
   ]
  },
  {
   "cell_type": "markdown",
   "metadata": {},
   "source": [
    "PyTorch是一个帮助构建深度学习项目的Python库，提供一个核心的数据结构`Tensor`\n",
    "类似于`Numpy`中的数组，可以方便的进行一些数学运算"
   ]
  },
  {
   "cell_type": "markdown",
   "metadata": {},
   "source": [
    "# What is this book?"
   ]
  },
  {
   "cell_type": "markdown",
   "metadata": {},
   "source": [
    "这本书主要是介绍如何使用PyTorch编写深度学习的项目，主要分为5个章节来讲：\n",
    "1. 介绍深度学习和PyTorch库\n",
    "2. 介绍PyTorch的Tensor数据结构和一些语法\n",
    "3. 介绍如何使用PyTorch处理真实数据\n",
    "4. 介绍进行深度学习的技巧和求导机制\n",
    "5. 编写一个神经网络，以及介绍`nn.Module`"
   ]
  },
  {
   "cell_type": "markdown",
   "metadata": {},
   "source": [
    "# Why PyTorch?"
   ]
  },
  {
   "cell_type": "markdown",
   "metadata": {},
   "source": [
    "PyTorch的优点：\n",
    "- 操作灵活，简洁\n",
    "- Immediate execution（立即执行），与之对应的是TensorFlow的计算图，需要先构建计算图，再执行"
   ]
  },
  {
   "cell_type": "markdown",
   "metadata": {},
   "source": [
    "# PyTorch has the batteries included"
   ]
  },
  {
   "cell_type": "markdown",
   "metadata": {},
   "source": [
    "1. PyTorch有Python的形式，但是其中也有很多非Python的代码。这样的话使得PyTorch可以被应用到对时间要求很高的工业场合\n",
    "2. 拥有Tensors和autograd,可以被应用到很多科学计算场合"
   ]
  },
  {
   "cell_type": "markdown",
   "metadata": {},
   "source": [
    "- 搭建神经网络的核心模块是`torch.nn`,提供神经网络的`layer`,`Fully connected layers`, `convolutional layers`, `activation functions`, and `loss functions`等等，用来搭建初始模型\n",
    "- 加载数据使用`torch.util.data`,其中`Dataset`充当你的原始数据和转化后的标准`Tensor`之间的桥梁，`DataLoader`加载数据进入循环\n",
    "- 使用GPU等硬件进行训练，`torch.nn.DataParallel`和`torch.distributed`\n",
    "- 使用`torch.optim`进行优化\n",
    "- ......"
   ]
  }
 ],
 "metadata": {
  "kernelspec": {
   "display_name": "Python 3",
   "language": "python",
   "name": "python3"
  },
  "language_info": {
   "codemirror_mode": {
    "name": "ipython",
    "version": 3
   },
   "file_extension": ".py",
   "mimetype": "text/x-python",
   "name": "python",
   "nbconvert_exporter": "python",
   "pygments_lexer": "ipython3",
   "version": "3.7.4"
  }
 },
 "nbformat": 4,
 "nbformat_minor": 2
}
